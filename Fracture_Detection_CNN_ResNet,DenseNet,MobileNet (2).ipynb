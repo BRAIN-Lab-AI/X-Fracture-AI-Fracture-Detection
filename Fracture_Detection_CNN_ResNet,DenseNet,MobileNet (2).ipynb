{
  "metadata": {
    "kernelspec": {
      "display_name": "Python 3 (ipykernel)",
      "language": "python",
      "name": "python3"
    },
    "language_info": {
      "codemirror_mode": {
        "name": "ipython",
        "version": 3
      },
      "file_extension": ".py",
      "mimetype": "text/x-python",
      "name": "python",
      "nbconvert_exporter": "python",
      "pygments_lexer": "ipython3",
      "version": "3.11.5"
    },
    "kaggle": {
      "accelerator": "nvidiaTeslaT4",
      "dataSources": [
        {
          "sourceId": 7793511,
          "sourceType": "datasetVersion",
          "datasetId": 4562384
        }
      ],
      "dockerImageVersionId": 30665,
      "isInternetEnabled": true,
      "language": "python",
      "sourceType": "notebook",
      "isGpuEnabled": true
    },
    "colab": {
      "name": "Fracture Detection-CNN: ResNet,DenseNet,MobileNet",
      "provenance": []
    }
  },
  "nbformat_minor": 0,
  "nbformat": 4,
  "cells": [
    {
      "source": [
        "# IMPORTANT: RUN THIS CELL IN ORDER TO IMPORT YOUR KAGGLE DATA SOURCES,\n",
        "# THEN FEEL FREE TO DELETE THIS CELL.\n",
        "# NOTE: THIS NOTEBOOK ENVIRONMENT DIFFERS FROM KAGGLE'S PYTHON\n",
        "# ENVIRONMENT SO THERE MAY BE MISSING LIBRARIES USED BY YOUR\n",
        "# NOTEBOOK.\n",
        "import kagglehub\n",
        "devbatrax_fracture_detection_using_x_ray_images_path = kagglehub.dataset_download('devbatrax/fracture-detection-using-x-ray-images')\n",
        "\n",
        "print('Data source import complete.')\n"
      ],
      "metadata": {
        "id": "OycDV0k21yPY"
      },
      "cell_type": "code",
      "outputs": [],
      "execution_count": null
    },
    {
      "cell_type": "code",
      "source": [
        "import tensorflow as tf\n",
        "from tensorflow.keras.applications import ResNet50, MobileNet, DenseNet169\n",
        "from tensorflow.keras.models import Sequential\n",
        "from tensorflow.keras.layers import Dense, GlobalAveragePooling2D\n",
        "from tensorflow.keras.preprocessing.image import ImageDataGenerator"
      ],
      "metadata": {
        "id": "jYtUM07U1yPb"
      },
      "execution_count": null,
      "outputs": []
    },
    {
      "cell_type": "code",
      "source": [
        "def create_resnet_model(input_shape):\n",
        "    base_model = ResNet50(weights='imagenet', include_top=False, input_shape=input_shape)\n",
        "    base_model.trainable = False  # Freeze the base model\n",
        "\n",
        "    resnet_model = Sequential([\n",
        "        base_model,\n",
        "        GlobalAveragePooling2D(),\n",
        "        Dense(128, activation='relu'),\n",
        "        Dense(1, activation='sigmoid')\n",
        "    ])\n",
        "    return resnet_model\n"
      ],
      "metadata": {
        "id": "j56rc7hn1yPc"
      },
      "execution_count": null,
      "outputs": []
    },
    {
      "cell_type": "code",
      "source": [
        "def create_mobilenet_model(input_shape):\n",
        "    base_model = MobileNet(weights='imagenet', include_top=False, input_shape=input_shape)\n",
        "    base_model.trainable = False  # Freeze the base model\n",
        "\n",
        "    mobilenet_model = Sequential([\n",
        "        base_model,\n",
        "        GlobalAveragePooling2D(),\n",
        "        Dense(128, activation='relu'),\n",
        "        Dense(1, activation='sigmoid')\n",
        "    ])\n",
        "    return mobilenet_model\n"
      ],
      "metadata": {
        "id": "IZ1T6WEv1yPc"
      },
      "execution_count": null,
      "outputs": []
    },
    {
      "cell_type": "code",
      "source": [
        "def create_densenet_model(input_shape):\n",
        "    base_model = DenseNet169(weights='imagenet', include_top=False, input_shape=input_shape)\n",
        "    base_model.trainable = False  # Freeze the base model\n",
        "\n",
        "    densenet_model = Sequential([\n",
        "        base_model,\n",
        "        GlobalAveragePooling2D(),\n",
        "        Dense(128, activation='relu'),\n",
        "        Dense(1, activation='sigmoid')\n",
        "    ])\n",
        "    return densenet_model\n"
      ],
      "metadata": {
        "id": "oJhYcqbB1yPd"
      },
      "execution_count": null,
      "outputs": []
    },
    {
      "cell_type": "code",
      "source": [
        "def train_and_evaluate(model, X_train, X_test, Y_train, Y_test, epochs=10):\n",
        "    model.compile(optimizer='adam', loss='binary_crossentropy', metrics=['accuracy'])\n",
        "    history = model.fit(X_train, Y_train,epochs=epochs, validation_data=(X_test, Y_test))\n",
        "    return history"
      ],
      "metadata": {
        "id": "nRlW33Zl1yPe"
      },
      "execution_count": null,
      "outputs": []
    },
    {
      "cell_type": "code",
      "source": [
        "def print_evaluation_results(model, X_test, Y_test):\n",
        "    val_loss, val_accuracy = model.evaluate(X_test, Y_test)\n",
        "    print(f'Validation Loss: {val_loss}, Validation Accuracy: {val_accuracy}')"
      ],
      "metadata": {
        "id": "8NVC6tQE1yPe"
      },
      "execution_count": null,
      "outputs": []
    },
    {
      "cell_type": "code",
      "source": [
        "import os\n",
        "import numpy as np\n",
        "import cv2\n",
        "from tensorflow.keras.utils import to_categorical\n",
        "\n",
        "# Define the path to the dataset folder\n",
        "dataset_path = \"/kaggle/input/fracture-detection-using-x-ray-images/data/train\"\n",
        "\n",
        "\n",
        "# Define the list of label folders in the dataset folder\n",
        "label_folders = [\"fractured\", \"not fractured\"]\n",
        "\n",
        "# Define the size of the input images\n",
        "img_height = 224\n",
        "img_width = 224\n",
        "\n",
        "# Define an empty list to store the images and their labels\n",
        "data = []\n",
        "labels = []\n",
        "\n",
        "# Loop over the label folders in the dataset folder\n",
        "for label_folder in label_folders:\n",
        "    # Define the path to the label folder\n",
        "    label_path = os.path.join(dataset_path, label_folder)\n",
        "    # Loop over the images in the label folder\n",
        "    for img_name in os.listdir(label_path):\n",
        "        # Define the path to the image\n",
        "        img_path = os.path.join(label_path, img_name)\n",
        "        # Load the image and resize it to the desired size\n",
        "        img = cv2.imread(img_path)\n",
        "        img = cv2.resize(img, (img_height, img_width))\n",
        "        # Append the image and its label to tzhe data and labels lists\n",
        "        data.append(img)\n",
        "        labels.append(label_folder)\n",
        "\n",
        "# Convert the data and labels lists to numpy arrays\n",
        "data = np.array(data)\n",
        "labels = np.array(labels)\n",
        "\n",
        "# Convert the labels to one-hot encoded vectors\n",
        "# labels = to_categorical(labels)\n",
        "\n",
        "# Print the shape of the data and labels arrays\n",
        "print(\"Data shape:\", data.shape)\n",
        "print(\"Labels shape:\", labels.shape)"
      ],
      "metadata": {
        "id": "h0jfJ_Bf1yPf"
      },
      "execution_count": null,
      "outputs": []
    },
    {
      "cell_type": "code",
      "source": [
        "import numpy as np\n",
        "\n",
        "\n",
        "# Get the unique string values\n",
        "unique_values = np.unique(labels)\n",
        "\n",
        "# Create a mapping dictionary\n",
        "mapping = {value: index for index, value in enumerate(unique_values)}\n",
        "\n",
        "# Map the string values to numbers\n",
        "mapped_arr = np.array([mapping[value] for value in labels])\n",
        "\n",
        "print(\"Original array:\", labels)\n",
        "print(\"Mapped array:\", mapped_arr)\n",
        "print(\"Mapping dictionary:\", mapping)\n"
      ],
      "metadata": {
        "id": "D4d9qFZs3dkS"
      },
      "execution_count": null,
      "outputs": []
    },
    {
      "cell_type": "code",
      "source": [
        "Original array: ['fractured' 'fractured' 'fractured' ... 'not fractured' 'not fractured'\n",
        " 'not fractured']\n",
        "Mapped array: [0 0 0 ... 1 1 1]\n",
        "Mapping dictionary: {np.str_('fractured'): 0, np.str_('not fractured'): 1}"
      ],
      "metadata": {
        "id": "F1do68kk1yPg"
      },
      "execution_count": null,
      "outputs": []
    },
    {
      "cell_type": "code",
      "source": [
        "from sklearn.model_selection import train_test_split\n",
        "X_train, X_test, Y_train, Y_test = train_test_split(data,mapped_arr, test_size = 0.2,random_state=0,shuffle=True,stratify=mapped_arr)"
      ],
      "metadata": {
        "id": "55DItJc63hAr"
      },
      "execution_count": null,
      "outputs": []
    },
    {
      "cell_type": "code",
      "source": [
        "resnet_model = create_resnet_model((img_height, img_width, 3))\n",
        "mobilenet_model = create_mobilenet_model((img_height, img_width, 3))\n",
        "densenet_model = create_densenet_model((img_height, img_width, 3))"
      ],
      "metadata": {
        "id": "0rGIrNd31yPg"
      },
      "execution_count": null,
      "outputs": []
    },
    {
      "cell_type": "code",
      "source": [
        "resnet_history = train_and_evaluate(resnet_model, X_train, X_test, Y_train, Y_test, epochs=10)\n",
        "print_evaluation_results(resnet_model, X_test, Y_test)\n",
        "\n",
        "mobilenet_history = train_and_evaluate(mobilenet_model, X_train, X_test, Y_train, Y_test, epochs=10)\n",
        "print_evaluation_results(mobilenet_model, X_test, Y_test)\n",
        "\n",
        "densenet_history = train_and_evaluate(densenet_model, X_train, X_test, Y_train, Y_test, epochs=10)\n",
        "print_evaluation_results(densenet_model, X_test, Y_test)"
      ],
      "metadata": {
        "id": "GYuU9VXn1yPh"
      },
      "execution_count": null,
      "outputs": []
    },
    {
      "cell_type": "code",
      "source": [
        "import matplotlib.pyplot as plt\n",
        "\n",
        "def plot_accuracy_comparison(models, histories):\n",
        "    plt.figure(figsize=(10, 6))\n",
        "\n",
        "    for model, history in zip(models, histories):\n",
        "        plt.plot(history.history['val_accuracy'], label=model)\n",
        "\n",
        "    plt.title('Validation Accuracy Comparison')\n",
        "    plt.xlabel('Epoch')\n",
        "    plt.ylabel('Accuracy')\n",
        "    plt.legend()\n",
        "    plt.show()\n",
        "\n",
        "models = ['ResNet', 'MobileNet', 'DenseNet']\n",
        "histories = [resnet_history, mobilenet_history, densenet_history]\n",
        "\n",
        "plot_accuracy_comparison(models, histories)"
      ],
      "metadata": {
        "id": "sV-SX1cw1yPi"
      },
      "execution_count": null,
      "outputs": []
    },
    {
      "cell_type": "code",
      "source": [
        "import matplotlib.pyplot as plt\n",
        "\n",
        "fractured_count = 4481\n",
        "not_fractured_count = 4384\n",
        "\n",
        "labels = ['Fractured', 'Not Fractured']\n",
        "sizes = [fractured_count, not_fractured_count]\n",
        "colors = ['red', 'green']\n",
        "\n",
        "plt.pie(sizes, labels=labels, colors=colors, autopct='%1.1f%%', startangle=140)\n",
        "plt.title('Distribution of Fractured and Not Fractured Images')\n",
        "plt.show()"
      ],
      "metadata": {
        "id": "e1VZh0vB1yPj"
      },
      "execution_count": null,
      "outputs": []
    },
    {
      "cell_type": "code",
      "source": [
        "import os\n",
        "import matplotlib.pyplot as plt\n",
        "import matplotlib.image as mpimg\n",
        "from random import sample\n",
        "\n",
        "train_dir = '/kaggle/input/fracture-detection-using-x-ray-images/data/train'\n",
        "\n",
        "def plot_images(image_dir, category, num_images=5):\n",
        "    plt.figure(figsize=(15, 5))\n",
        "    plt.suptitle(f'{category.capitalize()} Images', fontsize=16)\n",
        "\n",
        "    image_files = [os.path.join(image_dir, category, file) for file in os.listdir(os.path.join(image_dir, category))]\n",
        "    selected_images = sample(image_files, num_images)\n",
        "\n",
        "    for i, img_path in enumerate(selected_images, 1):\n",
        "        plt.subplot(1, num_images, i)\n",
        "        img = mpimg.imread(img_path)\n",
        "        plt.imshow(img)\n",
        "        plt.axis('off')\n",
        "\n",
        "    plt.show()\n",
        "\n",
        "plot_images(train_dir, 'fractured', num_images=5)\n",
        "plot_images(train_dir, 'not fractured', num_images=5)"
      ],
      "metadata": {
        "id": "50fqEjNI1yPj"
      },
      "execution_count": null,
      "outputs": []
    },
    {
      "cell_type": "code",
      "source": [
        "import matplotlib.pyplot as plt\n",
        "\n",
        "resnet_val_accuracy = resnet_history.history['val_accuracy']\n",
        "mobilenet_val_accuracy = mobilenet_history.history['val_accuracy']\n",
        "densenet_val_accuracy = densenet_history.history['val_accuracy']\n",
        "\n",
        "final_accuracies = [resnet_val_accuracy[-1], mobilenet_val_accuracy[-1], densenet_val_accuracy[-1]]\n",
        "models = ['ResNet', 'MobileNet', 'DenseNet']\n",
        "\n",
        "plt.bar(models, final_accuracies, color=['blue', 'green', 'red'])\n",
        "plt.title('Final Validation Accuracy of Models')\n",
        "plt.xlabel('Models')\n",
        "plt.ylabel('Accuracy')\n",
        "plt.ylim(0, 1)\n",
        "plt.show()"
      ],
      "metadata": {
        "id": "naXm68mT1yPj"
      },
      "execution_count": null,
      "outputs": []
    },
    {
      "cell_type": "code",
      "source": [
        "densenet_model.save('final_densenet.keras')"
      ],
      "metadata": {
        "id": "PoxM9YUZ1yPk"
      },
      "execution_count": null,
      "outputs": []
    },
    {
      "cell_type": "code",
      "source": [
        "from sklearn.metrics import confusion_matrix\n",
        "import seaborn as sns\n",
        "\n",
        "def plot_confusion_matrix(model, val_generator):\n",
        "    y_pred = model.predict(val_generator)\n",
        "    y_pred_binary = (y_pred > 0.5).astype(int)\n",
        "    y_true = val_generator.classes\n",
        "\n",
        "    conf_matrix = confusion_matrix(y_true, y_pred_binary)\n",
        "\n",
        "    plt.figure(figsize=(8, 6))\n",
        "    sns.heatmap(conf_matrix, annot=True, fmt='d', cmap='Blues', xticklabels=['Not Fractured', 'Fractured'], yticklabels=['Not Fractured', 'Fractured'])\n",
        "    plt.xlabel('Predicted')\n",
        "    plt.ylabel('True')\n",
        "    plt.title('Confusion Matrix')\n",
        "    plt.show()\n",
        "\n",
        "plot_confusion_matrix(densenet_model, val_generator)"
      ],
      "metadata": {
        "id": "0KPupzhl1yPk"
      },
      "execution_count": null,
      "outputs": []
    },
    {
      "cell_type": "code",
      "source": [
        "from sklearn.metrics import confusion_matrix, classification_report\n",
        "import seaborn as sns\n",
        "\n",
        "y_pred = densenet_model.predict(val_generator)\n",
        "y_pred_binary = (y_pred > 0.5).astype(int)\n",
        "y_true = val_generator.classes\n",
        "\n",
        "print(\"Classification Report for DenseNet Model:\")\n",
        "print(classification_report(y_true, y_pred_binary, target_names=['Not Fractured', 'Fractured']))"
      ],
      "metadata": {
        "id": "xk-dzPHV1yPk"
      },
      "execution_count": null,
      "outputs": []
    },
    {
      "cell_type": "code",
      "source": [
        "def print_classification_report(model, val_generator):\n",
        "    y_pred = model.predict(val_generator)\n",
        "    y_pred_binary = (y_pred > 0.5).astype(int)\n",
        "    y_true = val_generator.classes\n",
        "\n",
        "    print(\"Classification Report:\")\n",
        "    print(classification_report(y_true, y_pred_binary, target_names=['Not Fractured', 'Fractured']))\n",
        "\n",
        "print_classification_report(densenet_model, val_generator)\n",
        "print_classification_report(mobilenet_model, val_generator)\n",
        "print_classification_report(resnet_model, val_generator)"
      ],
      "metadata": {
        "id": "0og4hS591yPl"
      },
      "execution_count": null,
      "outputs": []
    }
  ]
}